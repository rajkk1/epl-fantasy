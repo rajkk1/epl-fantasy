{
 "cells": [
  {
   "cell_type": "markdown",
   "metadata": {},
   "source": [
    "# Selection for English Premier League Fantasy Football\n",
    "\n",
    "After signing up to https://fantasy.premierleague.com/ you get to 1) make a team on the first week and 2) transfer players every week. In this simple method, we will only transfer a single player, since it costs points to transfer more than 1 and we will not look into the cost-benefit analysis of that. We are also just going to make the transfer that will give the biggest increase in predicted total score. Note that we do not take into account substitutes, and just pick the cheapest substitutes possible at the beginning and leave them on the bench for the whole season."
   ]
  },
  {
   "cell_type": "markdown",
   "metadata": {},
   "source": [
    "### Imports"
   ]
  },
  {
   "cell_type": "code",
   "execution_count": 1,
   "metadata": {
    "collapsed": true
   },
   "outputs": [],
   "source": [
    "# %load __init__.py\n",
    "from sklearn.linear_model import LinearRegression\n",
    "from sklearn.linear_model import Lasso\n",
    "from sklearn.ensemble import RandomForestRegressor\n",
    "from sklearn.model_selection import train_test_split\n",
    "from sklearn.metrics import mean_squared_error\n",
    "from pprint import pprint\n",
    "from scipy.stats import norm, invgamma\n",
    "from utils import *\n",
    "from constants import *\n",
    "from API import *\n",
    "from ML import *\n",
    "import matplotlib.pyplot as plt\n",
    "import numpy as np\n",
    "import pandas as pd\n",
    "import requests\n",
    "import re\n",
    "\n",
    "%matplotlib inline"
   ]
  },
  {
   "cell_type": "markdown",
   "metadata": {},
   "source": [
    "### Last season aggregate statistics\n",
    "\n",
    "Taken from https://fantasyoverlord.com/FPL/History"
   ]
  },
  {
   "cell_type": "markdown",
   "metadata": {},
   "source": [
    "### Create team and player summary tables"
   ]
  },
  {
   "cell_type": "code",
   "execution_count": 2,
   "metadata": {},
   "outputs": [
    {
     "data": {
      "application/vnd.jupyter.widget-view+json": {
       "model_id": "3c795f87cd234512a46fdf3c05106401",
       "version_major": 2,
       "version_minor": 0
      },
      "text/plain": [
       "A Jupyter Widget"
      ]
     },
     "metadata": {},
     "output_type": "display_data"
    }
   ],
   "source": [
    "team_stats = create_team_stats(TEAMS_URL)\n",
    "player_summary = create_player_summary(PLAYERS_URL, team_stats)\n",
    "num_players = len(player_summary)\n",
    "games_df = create_games_data(GAMES_URL,player_summary)"
   ]
  },
  {
   "cell_type": "markdown",
   "metadata": {},
   "source": [
    "### Pick full squad\n",
    "In the first week we want to create the team. We have the total score of each player in their previous year and we have thier cost. Firstly we pick the 4 cheapest substitute players (not given in the code below). Then we pick the most 'efficient' (i.e. best total score to cost ratio) for all the others. This metric is a bit arbitrary, but when I tried in the 2018-19 season it seemed to pick reasonable players (e.g. a mix of high scoring players like Salah, Vardy etc.) and I had a remaining of GBP 5.0 left"
   ]
  },
  {
   "cell_type": "code",
   "execution_count": 18,
   "metadata": {},
   "outputs": [
    {
     "name": "stdout",
     "output_type": "stream",
     "text": [
      "'Squad:'\n",
      "'GKP: Ederson 1.03448275862'\n",
      "'DEF: Alonso 1.11428571429'\n",
      "'DEF: Doherty 1.08163265306'\n",
      "'DEF: Duffy 1.0'\n",
      "'DEF: Jonny 0.977777777778'\n",
      "'MID: Fraser 1.04918032787'\n",
      "'MID: Pereyra 0.890625'\n",
      "'MID: Gudmundsson 0.816666666667'\n",
      "'MID: Richarlison 0.811594202899'\n",
      "'FWD: Wilson 1.02941176471'\n",
      "'FWD: Jiménez 0.877192982456'\n",
      "'Median player efficiency (without zeros): 0.36363636363636365'\n"
     ]
    },
    {
     "data": {
      "image/png": "[encoded data removed]",
      "text/plain": [
       "<matplotlib.figure.Figure at 0x184d0bc5278>"
      ]
     },
     "metadata": {},
     "output_type": "display_data"
    }
   ],
   "source": [
    "player_summary['efficiency']=player_summary['total_points']/player_summary['now_cost']\n",
    "player_summary_sorted=player_summary.sort_values(by=['efficiency'],ascending=False)\n",
    "pprint(\"Squad:\")\n",
    "for element_type in ELEMENT_TYPE_TO_POSITION.keys():\n",
    "    position = ELEMENT_TYPE_TO_POSITION[element_type]\n",
    "    current_players=player_summary_sorted.loc[player_summary_sorted['element_type'] == element_type]\n",
    "    players=current_players['web_name'][:POSITION_TO_NUMBER[position]]\n",
    "    for player in players:\n",
    "        pprint(position + \": \" + player + \" \" + str(current_players.loc[current_players['web_name']==player,'efficiency'].iloc[0]))\n",
    "pprint('Median player efficiency (without zeros): ' + str(player_summary_sorted.loc[player_summary_sorted['efficiency'] != 0,'efficiency'].median()))\n",
    "_ = plt.hist(player_summary_sorted.loc[player_summary_sorted['efficiency'] != 0,'efficiency'])\n",
    "_ = plt.xlabel('points per $')"
   ]
  },
  {
   "cell_type": "code",
   "execution_count": 3,
   "metadata": {
    "collapsed": true
   },
   "outputs": [],
   "source": [
    "X,y = make_training_sets(games_df)"
   ]
  },
  {
   "cell_type": "code",
   "execution_count": 4,
   "metadata": {},
   "outputs": [
    {
     "name": "stderr",
     "output_type": "stream",
     "text": [
      "C:\\Users\\rajkk\\Anaconda3\\lib\\site-packages\\sklearn\\linear_model\\coordinate_descent.py:491: ConvergenceWarning: Objective did not converge. You might want to increase the number of iterations. Fitting data with very small alpha may cause precision problems.\n",
      "  ConvergenceWarning)\n"
     ]
    },
    {
     "data": {
      "text/plain": [
       "[10.320874999999999,\n",
       " 10.188546986950826,\n",
       " 9.8510509610176094,\n",
       " 10.89595767952169,\n",
       " 8.5169120749999987,\n",
       " 78.27893247789099,\n",
       " 12.258134842769024,\n",
       " 9.6708132750000004]"
      ]
     },
     "execution_count": 4,
     "metadata": {},
     "output_type": "execute_result"
    }
   ],
   "source": [
    "X_train, X_test, y_train, y_test = train_test_split(X, y, test_size=0.2, random_state=1)\n",
    "\n",
    "points_cols=list(X_test.filter(regex='total_points'))\n",
    "regex_cols_to_keep=['total_points','team','was_home']\n",
    "main_cols=[]\n",
    "for col in regex_cols_to_keep:\n",
    "    main_cols = main_cols+(list(X_test.filter(regex=col)))\n",
    "\n",
    "X_average_test = X_test[points_cols]\n",
    "y_pred_average = X_average_test.mean(axis=1)\n",
    "\n",
    "X_weighted_average_train = X_train[points_cols]\n",
    "X_weighted_average_test = X_test[points_cols]\n",
    "lm_weighted_average=LinearRegression()\n",
    "lm_weighted_average.fit(X_weighted_average_train, y_train)\n",
    "y_pred_weighted_average = lm_weighted_average.predict(X_weighted_average_test)\n",
    "\n",
    "X_main_train = X_train[main_cols]\n",
    "X_main_test = X_test[main_cols]\n",
    "\n",
    "X_main_train = pd.get_dummies(X_main_train)\n",
    "X_main_test = pd.get_dummies(X_main_test)\n",
    "for col in list(set(list(X_main_train))-set(list(X_main_test))):\n",
    "    X_main_test[col] = 0\n",
    "for col in list(set(list(X_main_test))-set(list(X_main_train))):\n",
    "    X_main_train[col] = 0\n",
    "\n",
    "lasso_main = Lasso(alpha=1)\n",
    "lasso_main.fit(X_main_train, y_train)\n",
    "y_lasso_pred_main = lasso_main.predict(X_main_test)\n",
    "\n",
    "rf_main = RandomForestRegressor(n_estimators = 1000, random_state = 42)\n",
    "rf_main.fit(X_main_train, y_train)\n",
    "y_rf_pred_main = rf_main.predict(X_main_test)\n",
    "\n",
    "X_all_train = X_train\n",
    "X_all_test = X_test\n",
    "\n",
    "X_all_train = pd.get_dummies(X_all_train)\n",
    "X_all_test = pd.get_dummies(X_all_test)\n",
    "for col in list(set(list(X_all_train))-set(list(X_all_test))):\n",
    "    X_all_test[col] = 0\n",
    "\n",
    "lasso_all = Lasso(alpha=1,max_iter=100000)\n",
    "lasso_all.fit(X_all_train, y_train)\n",
    "y_lasso_pred_all = lasso_all.predict(X_all_test)\n",
    "\n",
    "rf_all = RandomForestRegressor(n_estimators = 1000, random_state = 42)\n",
    "rf_all.fit(X_all_train, y_train)\n",
    "y_rf_pred_all = rf_all.predict(X_all_test)\n",
    "\n",
    "MSE=[]\n",
    "MSE.append(mean_squared_error(y_true = y_test, y_pred = y_pred_average))\n",
    "MSE.append(mean_squared_error(y_true = y_test, y_pred = y_pred_weighted_average))\n",
    "MSE.append(mean_squared_error(y_true = y_test, y_pred = y_pred_main))\n",
    "MSE.append(mean_squared_error(y_true = y_test, y_pred = y_lasso_pred_main))\n",
    "MSE.append(mean_squared_error(y_true = y_test, y_pred = y_rf_pred_main))\n",
    "MSE.append(mean_squared_error(y_true = y_test, y_pred = y_pred_all))\n",
    "MSE.append(mean_squared_error(y_true = y_test, y_pred = y_lasso_pred_all))\n",
    "MSE.append(mean_squared_error(y_true = y_test, y_pred = y_rf_pred_all))\n",
    "MSE"
   ]
  },
  {
   "cell_type": "code",
   "execution_count": 5,
   "metadata": {},
   "outputs": [
    {
     "name": "stderr",
     "output_type": "stream",
     "text": [
      "C:\\Users\\rajkk\\Anaconda3\\lib\\site-packages\\pandas\\core\\frame.py:2746: SettingWithCopyWarning: \n",
      "A value is trying to be set on a copy of a slice from a DataFrame\n",
      "\n",
      "See the caveats in the documentation: http://pandas.pydata.org/pandas-docs/stable/indexing.html#indexing-view-versus-copy\n",
      "  **kwargs)\n"
     ]
    },
    {
     "data": {
      "application/vnd.jupyter.widget-view+json": {
       "model_id": "024efaa6746b470ba8ef80c505d42ffd",
       "version_major": 2,
       "version_minor": 0
      },
      "text/plain": [
       "A Jupyter Widget"
      ]
     },
     "metadata": {},
     "output_type": "display_data"
    }
   ],
   "source": [
    "gameweek = get_current_gameweek(GAMES_URL)\n",
    "IDs = games_df['id']\n",
    "X_pred = games_df\n",
    "#X_pred = games_df[games_df.columns.drop(list(games_df.filter(regex='_'+str(1))))]\n",
    "X_pred = X_pred.iloc[:, ~X_pred.columns.str.endswith('_1')]\n",
    "#renaming trick taken from https://stackoverflow.com/questions/38101009/changing-multiple-column-names-but-not-all-of-them-panda-python\n",
    "for i in range(2,gameweek+1):\n",
    "    renaming_cols_dict = dict(zip(games_df.iloc[:,games_df.columns.str.endswith('_'+str(i))], games_df.iloc[:,games_df.columns.str.endswith('_'+str(i-1))]))\n",
    "    X_pred.rename(columns=renaming_cols_dict,inplace=True)\n",
    "was_home_new=[]\n",
    "opponent_team_new=[]\n",
    "for ID in log_progress(IDs):\n",
    "    r = requests.get(GAMES_URL+str(ID))\n",
    "    jsonResponse = r.json()\n",
    "    was_home_new.append(jsonResponse['fixtures'][0][\"is_home\"])\n",
    "    opponent_name = jsonResponse['fixtures'][0][\"opponent_name\"]\n",
    "    opponent_team_new.append(team_stats.loc[team_stats[\"name\"]==opponent_name, \"team\"].item())\n",
    "next_week_data = pd.DataFrame(data={'id':IDs, \n",
    "                                    \"was_home_\"+str(gameweek-1): was_home_new,\n",
    "                                    \"opponent_team_\"+str(gameweek-1): opponent_team_new})\n",
    "X_pred = X_pred.merge(next_week_data, on=\"id\")\n",
    "X_pred[\"was_home_\"+str(gameweek-1)] = X_pred[\"was_home_\"+str(gameweek-1)].astype(object)                        \n",
    "X_pred = X_pred.drop('id',axis=1)\n",
    "\n",
    "X_pred=X_pred\n",
    "y_pred = rf_all.predict(pd.get_dummies(X_pred))\n",
    "player_predictions = pd.DataFrame({'id':np.array(IDs),'prediction_raw':y_pred})\n",
    "player_summary = player_summary.merge(player_predictions, on='id')\n",
    "player_summary['prediction']=player_summary['prediction_raw']*player_summary['chance_of_playing_next_round']"
   ]
  },
  {
   "cell_type": "code",
   "execution_count": 15,
   "metadata": {
    "collapsed": true
   },
   "outputs": [],
   "source": [
    "my_team=my_current_team(GAMES_URL, player_summary)"
   ]
  },
  {
   "cell_type": "markdown",
   "metadata": {},
   "source": [
    "### Maxed out teams"
   ]
  },
  {
   "cell_type": "code",
   "execution_count": 7,
   "metadata": {
    "collapsed": true
   },
   "outputs": [],
   "source": [
    "maxed_out_teams = find_maxed_out_team(my_team, team_stats)"
   ]
  },
  {
   "cell_type": "code",
   "execution_count": 8,
   "metadata": {},
   "outputs": [
    {
     "data": {
      "text/html": [
       "<div>\n",
       "<style>\n",
       "    .dataframe thead tr:only-child th {\n",
       "        text-align: right;\n",
       "    }\n",
       "\n",
       "    .dataframe thead th {\n",
       "        text-align: left;\n",
       "    }\n",
       "\n",
       "    .dataframe tbody tr th {\n",
       "        vertical-align: top;\n",
       "    }\n",
       "</style>\n",
       "<table border=\"1\" class=\"dataframe\">\n",
       "  <thead>\n",
       "    <tr style=\"text-align: right;\">\n",
       "      <th></th>\n",
       "      <th>second_name</th>\n",
       "      <th>prediction</th>\n",
       "    </tr>\n",
       "  </thead>\n",
       "  <tbody>\n",
       "    <tr>\n",
       "      <th>3</th>\n",
       "      <td>Bellerín</td>\n",
       "      <td>2.488</td>\n",
       "    </tr>\n",
       "    <tr>\n",
       "      <th>27</th>\n",
       "      <td>Cook</td>\n",
       "      <td>2.286</td>\n",
       "    </tr>\n",
       "    <tr>\n",
       "      <th>129</th>\n",
       "      <td>Alonso</td>\n",
       "      <td>5.372</td>\n",
       "    </tr>\n",
       "    <tr>\n",
       "      <th>130</th>\n",
       "      <td>Luiz Moreira Marinho</td>\n",
       "      <td>1.765</td>\n",
       "    </tr>\n",
       "    <tr>\n",
       "      <th>132</th>\n",
       "      <td>Rüdiger</td>\n",
       "      <td>2.573</td>\n",
       "    </tr>\n",
       "    <tr>\n",
       "      <th>163</th>\n",
       "      <td>Wan-Bissaka</td>\n",
       "      <td>2.532</td>\n",
       "    </tr>\n",
       "    <tr>\n",
       "      <th>238</th>\n",
       "      <td>Schindler</td>\n",
       "      <td>7.366</td>\n",
       "    </tr>\n",
       "    <tr>\n",
       "      <th>239</th>\n",
       "      <td>Löwe</td>\n",
       "      <td>6.397</td>\n",
       "    </tr>\n",
       "    <tr>\n",
       "      <th>262</th>\n",
       "      <td>Stankovic</td>\n",
       "      <td>0.694</td>\n",
       "    </tr>\n",
       "    <tr>\n",
       "      <th>265</th>\n",
       "      <td>Morgan</td>\n",
       "      <td>4.074</td>\n",
       "    </tr>\n",
       "    <tr>\n",
       "      <th>269</th>\n",
       "      <td>Chilwell</td>\n",
       "      <td>7.549</td>\n",
       "    </tr>\n",
       "    <tr>\n",
       "      <th>271</th>\n",
       "      <td>Barbosa Pereira</td>\n",
       "      <td>4.226</td>\n",
       "    </tr>\n",
       "    <tr>\n",
       "      <th>272</th>\n",
       "      <td>Evans</td>\n",
       "      <td>3.790</td>\n",
       "    </tr>\n",
       "    <tr>\n",
       "      <th>299</th>\n",
       "      <td>van Dijk</td>\n",
       "      <td>2.518</td>\n",
       "    </tr>\n",
       "    <tr>\n",
       "      <th>300</th>\n",
       "      <td>Robertson</td>\n",
       "      <td>3.030</td>\n",
       "    </tr>\n",
       "    <tr>\n",
       "      <th>318</th>\n",
       "      <td>Stones</td>\n",
       "      <td>1.793</td>\n",
       "    </tr>\n",
       "    <tr>\n",
       "      <th>319</th>\n",
       "      <td>Kompany</td>\n",
       "      <td>1.359</td>\n",
       "    </tr>\n",
       "    <tr>\n",
       "      <th>320</th>\n",
       "      <td>Otamendi</td>\n",
       "      <td>0.678</td>\n",
       "    </tr>\n",
       "    <tr>\n",
       "      <th>321</th>\n",
       "      <td>Walker</td>\n",
       "      <td>2.103</td>\n",
       "    </tr>\n",
       "    <tr>\n",
       "      <th>340</th>\n",
       "      <td>Smalling</td>\n",
       "      <td>1.907</td>\n",
       "    </tr>\n",
       "    <tr>\n",
       "      <th>349</th>\n",
       "      <td>Young</td>\n",
       "      <td>1.936</td>\n",
       "    </tr>\n",
       "    <tr>\n",
       "      <th>416</th>\n",
       "      <td>Vestergaard</td>\n",
       "      <td>0.628</td>\n",
       "    </tr>\n",
       "    <tr>\n",
       "      <th>423</th>\n",
       "      <td>Davies</td>\n",
       "      <td>1.455</td>\n",
       "    </tr>\n",
       "    <tr>\n",
       "      <th>424</th>\n",
       "      <td>Trippier</td>\n",
       "      <td>3.715</td>\n",
       "    </tr>\n",
       "    <tr>\n",
       "      <th>503</th>\n",
       "      <td>Doherty</td>\n",
       "      <td>2.602</td>\n",
       "    </tr>\n",
       "    <tr>\n",
       "      <th>524</th>\n",
       "      <td>Hause</td>\n",
       "      <td>0.135</td>\n",
       "    </tr>\n",
       "  </tbody>\n",
       "</table>\n",
       "</div>"
      ],
      "text/plain": [
       "              second_name  prediction\n",
       "3                Bellerín       2.488\n",
       "27                   Cook       2.286\n",
       "129                Alonso       5.372\n",
       "130  Luiz Moreira Marinho       1.765\n",
       "132               Rüdiger       2.573\n",
       "163           Wan-Bissaka       2.532\n",
       "238             Schindler       7.366\n",
       "239                  Löwe       6.397\n",
       "262             Stankovic       0.694\n",
       "265                Morgan       4.074\n",
       "269              Chilwell       7.549\n",
       "271       Barbosa Pereira       4.226\n",
       "272                 Evans       3.790\n",
       "299              van Dijk       2.518\n",
       "300             Robertson       3.030\n",
       "318                Stones       1.793\n",
       "319               Kompany       1.359\n",
       "320              Otamendi       0.678\n",
       "321                Walker       2.103\n",
       "340              Smalling       1.907\n",
       "349                 Young       1.936\n",
       "416           Vestergaard       0.628\n",
       "423                Davies       1.455\n",
       "424              Trippier       3.715\n",
       "503               Doherty       2.602\n",
       "524                 Hause       0.135"
      ]
     },
     "execution_count": 8,
     "metadata": {},
     "output_type": "execute_result"
    }
   ],
   "source": [
    "def make_short_list(player_summary):\n",
    "    ### Picking top players per price ###\n",
    "    idx = player_summary.groupby(['field_position','now_cost'])['prediction'].transform(max) == player_summary['prediction']\n",
    "    short_list = player_summary.loc[idx]\n",
    "    short_list=short_list.loc[short_list['prediction'] != 0]\n",
    "    return(short_list) \n",
    "    \n",
    "short_list = make_short_list(player_summary)\n",
    "short_list.loc[short_list['field_position']=='DEF',['second_name','prediction']]"
   ]
  },
  {
   "cell_type": "code",
   "execution_count": 16,
   "metadata": {},
   "outputs": [
    {
     "name": "stdout",
     "output_type": "stream",
     "text": [
      "    second_name field_position\n",
      "0     Fabianski            GKP\n",
      "1        Stones            DEF\n",
      "2   Azpilicueta            DEF\n",
      "3        Alonso            DEF\n",
      "4     Tarkowski            DEF\n",
      "5   Milivojevic            MID\n",
      "6        Fraser            MID\n",
      "7         Salah            MID\n",
      "8        Hazard            MID\n",
      "9      Mitrovic            FWD\n",
      "10       Agüero            FWD\n",
      "11      Speroni            GKP\n",
      "12       Malone            DEF\n",
      "13     Stephens            MID\n",
      "14       Quaner            FWD\n"
     ]
    }
   ],
   "source": [
    "pprint(my_team[['second_name','field_position']])\n",
    "remaining_cash=1000 - sum(my_team['now_cost'])\n",
    "my_team = my_team.iloc[[0,1,2,3,4,5,6,7,8,9,10]]"
   ]
  },
  {
   "cell_type": "code",
   "execution_count": 17,
   "metadata": {},
   "outputs": [
    {
     "name": "stdout",
     "output_type": "stream",
     "text": [
      "Substitute in Chilwell for Tarkowski.\n",
      "    second_name  prediction\n",
      "10       Agüero      9.7270\n",
      "8        Hazard      7.2790\n",
      "3        Alonso      5.3720\n",
      "7         Salah      4.1310\n",
      "9      Mitrovic      3.7200\n",
      "6        Fraser      3.0740\n",
      "2   Azpilicueta      2.7650\n",
      "1        Stones      1.7930\n",
      "5   Milivojevic      1.5680\n",
      "0     Fabianski      1.4840\n",
      "4     Tarkowski      0.3795\n",
      "    second_name  prediction\n",
      "269    Chilwell       7.549\n"
     ]
    }
   ],
   "source": [
    "def find_team_IDs(teams, team_stats):\n",
    "    team_IDs=[]\n",
    "    for team in teams:\n",
    "        team_IDs.append(team_stats.loc[team_stats['name']==team,'team'].max())\n",
    "    return(team_IDs)\n",
    "   \n",
    "def find_best_substitution(short_list,my_team,remaining_cash,maxed_out_teams):    \n",
    "    #Declare variables\n",
    "    pred_points=sum(my_team['prediction'])\n",
    "    max_diff=0\n",
    "    sub_out=''\n",
    "    sub_in=''\n",
    "    maxed_out_team_IDs=find_team_IDs(maxed_out_teams,team_stats)\n",
    "    #Loop through players and find best transfer\n",
    "    for cur_idx, cur_player in my_team.iterrows():\n",
    "        cur_pos=cur_player['field_position']\n",
    "        cur_cost=cur_player['now_cost']\n",
    "        cur_pred_points=cur_player['prediction']\n",
    "        cur_team=cur_player['team']\n",
    "        #Loop through all players that have same position as current player\n",
    "        for idx, player in short_list.loc[short_list['field_position']==cur_pos,:].iterrows():\n",
    "            cost=player['now_cost']\n",
    "            team_ID=player['team']\n",
    "            #check if player is already in the team\n",
    "            if (int(player['id']) not in set(my_team['id'])):\n",
    "                #Check if proposed player doesn't violate max 3 players per team rule\n",
    "                if (team_ID not in maxed_out_team_IDs or cur_team==team_ID):\n",
    "                    #Check if transfer is feasible in terms of money and if proposed player is not already in roster\n",
    "                    if (cur_cost+remaining_cash-cost>=0):\n",
    "                        pred_points=player['prediction']\n",
    "                        #If score differential is more than current maximum, set this transfer as the best one\n",
    "                        if (pred_points-cur_pred_points > max_diff):\n",
    "                            sub_out=cur_player['second_name']\n",
    "                            sub_in=player['second_name']\n",
    "                            max_diff=pred_points-cur_pred_points\n",
    "    print('Substitute in ' + sub_in + ' for ' + sub_out+ '.' )\n",
    "    return(sub_in)\n",
    "\n",
    "sub_in = find_best_substitution(short_list,my_team[0:11],remaining_cash,maxed_out_teams)\n",
    "print(my_team[['second_name','prediction']].sort_values('prediction',ascending=False))\n",
    "print(player_summary[['second_name','prediction']][player_summary['second_name']==sub_in])"
   ]
  },
  {
   "cell_type": "code",
   "execution_count": null,
   "metadata": {
    "collapsed": true
   },
   "outputs": [],
   "source": []
  }
 ],
 "metadata": {
  "kernelspec": {
   "display_name": "Python 3",
   "language": "python",
   "name": "python3"
  },
  "language_info": {
   "codemirror_mode": {
    "name": "ipython",
    "version": 3
   },
   "file_extension": ".py",
   "mimetype": "text/x-python",
   "name": "python",
   "nbconvert_exporter": "python",
   "pygments_lexer": "ipython3",
   "version": "3.6.2"
  }
 },
 "nbformat": 4,
 "nbformat_minor": 2
}
