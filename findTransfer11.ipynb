{
 "cells": [
  {
   "cell_type": "markdown",
   "metadata": {},
   "source": [
    "# Transfer selection for English Premier League Fantasy Football"
   ]
  },
  {
   "cell_type": "markdown",
   "metadata": {},
   "source": [
    "After signing up to https://fantasy.premierleague.com/ and making a team, every week you get to transfer players. In this simple method, we will only transfer a single player, since it costs points to transfer more than 1 and we will no look into the cost-benefit analysis of that. We are also just going to make the transfer that will give the biggest increase in total score."
   ]
  },
  {
   "cell_type": "markdown",
   "metadata": {},
   "source": [
    "## Getting the player data from the website"
   ]
  },
  {
   "cell_type": "markdown",
   "metadata": {},
   "source": [
    "Firstly we start off by saving a bunch of html files. We save the current team by clicking \"My Team\" and saving the page as \"curTeam.html. Then under \"Transfers\", we can select what players to view. What we want to do is save the data by position for each position. So firstly, we choose \"Goalkeepers\" and we then save the webpage as \"GK1.html\". Then, at the bottom of the \"Player selection\" table, we can click on the arrow to go to the next page and then save it again as \"GK2.html\". Next we move on to choosing \"Defenders\" only and repeat the process (so we should have \"D1.html\" to \"D6.html\"). And we repeat the process for the midfielders (giving us \"MF1.html\" to \"MF8.html\") and forwards (giving us \"F1.html\" to \"F3.html\"). Make sure that these files are saved in the same location as this notebook. **Note:** It's important that we leave the \"Sorted by\" field as *Total Score* and \"With a maximum price of\" as *Unlimited*. This is because we want all the players in order of their total score to run the code. And it is also important that you make sure your squad is empty. Otherwise the program will add some extra rows to the data (it messes up the scraping). I used google chrome but I think it should work with other browsers too.\n",
    "\n",
    "After getting the data, we rename all \".html\" files as \".txt\" (e.g. \"curTeam.txt\", \"GK1.txt\", \"GK2.txt\", \"D1.txt\" etc.). All the folders with the additional data created by your web browser when saving the webpage can be deleted."
   ]
  },
  {
   "cell_type": "markdown",
   "metadata": {},
   "source": [
    "We also note the remaining cash that we have left"
   ]
  },
  {
   "cell_type": "code",
   "execution_count": 56,
   "metadata": {
    "collapsed": true
   },
   "outputs": [],
   "source": [
    "remainingCash=0.7"
   ]
  },
  {
   "cell_type": "markdown",
   "metadata": {},
   "source": [
    "## Choosing the \"best\" transfer\n",
    "First we load all the required python libraries and define our constants."
   ]
  },
  {
   "cell_type": "code",
   "execution_count": 57,
   "metadata": {
    "collapsed": true
   },
   "outputs": [],
   "source": [
    "### Libraries ###\n",
    "\n",
    "import sys #used for input argument\n",
    "import re #regular expressions\n",
    "import csv #to write to csv\n",
    "import numpy as np #to change list into matrix\n",
    "import itertools #to iterate through different combinations of players\n",
    "\n",
    "### Constants ###\n",
    "\n",
    "POSITIONS=['GK','D','MF','F']\n",
    "NOFILES=[2,6,8,3]\n",
    "TOT_NUMBER=[1,4,4,2]\n",
    "MAX_COST=100\n",
    "NUM_PLAYERS=11"
   ]
  },
  {
   "cell_type": "markdown",
   "metadata": {},
   "source": [
    "Next, we take all the html data that we have (already saved as .txt files) and we convert them into matrices (1 for each position). So it looks like:\n",
    "\n",
    "Goalies:\n",
    "\n",
    "[[Player Status, Name, Price, Total Score, 'GK'],\n",
    "[Player Status, Name, Price, Total Score, 'GK'],\n",
    ".\n",
    ".\n",
    ".]\n",
    "\n",
    "Defenders:\n",
    "\n",
    "[[Player Status, Name, Price, Total Score, 'D'],\n",
    "[Player Status, Name, Price, Total Score, 'D'],\n",
    ".\n",
    ".\n",
    ".]\n",
    "\n",
    "etc.\n",
    "\n",
    "We save all these matrices into one dictionary called \"tables\" where each table has a key of its position (i.e. 'GK','D','MF','F')."
   ]
  },
  {
   "cell_type": "code",
   "execution_count": 66,
   "metadata": {
    "collapsed": false
   },
   "outputs": [],
   "source": [
    "### Convert from html to numpy matrices ###\n",
    "\n",
    "# Function: removeChars\n",
    "# Usage: number_str = removeChars(str)\n",
    "# Description: takes in a string and delets any character that's not a\n",
    "# number or a decimal point.\n",
    "######################################################################\n",
    "def removeChars(string):\n",
    "    non_decimal=re.compile(r'[^\\d.]+')\n",
    "    clean_string=non_decimal.sub('',string)\n",
    "    return clean_string\n",
    "\n",
    "# Function: makeRow\n",
    "# Usage: statuses = makeRow(filename,str_bef,str_aft)\n",
    "# Description: Finds all the strings written in between str_bef and\n",
    "# str_aft and returns an array of those strings.\n",
    "#######################################################################\n",
    "def makeRows(filename,str_bef,str_aft):\n",
    "    start=len(str_bef)\n",
    "    rows=[]\n",
    "    file = open(filename)\n",
    "    for line in file:\n",
    "        if str_bef in line:\n",
    "            end=line.index(str_aft)\n",
    "            row=line[start:end]+','\n",
    "            row=row.replace(\"–\", \"-\") #a hacky way to remove a non-recognized character by np.savetxt\n",
    "            rows.append(row)\n",
    "    return rows\n",
    "\n",
    "# Function Family: find___\n",
    "# Usage: ___ = find___(filename)\n",
    "# Descriptions: Given a txt file of an team selection html page, it\n",
    "# will find all the player ___ (e.g. statuses, names) for the week and \n",
    "# make an array of them.\n",
    "#######################################################################\n",
    "def findStatuses(filename):\n",
    "    str_bef='            <a href=\"https://fantasy.premierleague.com/a/squad/transfers#\" class=\"ismjs-info ism-table--el__status-link\" title=\"'\n",
    "    str_aft='\"><svg class=\"ism-icon--element'\n",
    "    statuses=makeRows(filename,str_bef,str_aft)\n",
    "    return statuses\n",
    "    \n",
    "def findNames(filename):\n",
    "\tstr_bef='                <a href=\"https://fantasy.premierleague.com/a/squad/transfers#\" class=\"ism-table--el__name\">'\n",
    "\tstr_aft='</a>'\n",
    "\tnames=makeRows(filename,str_bef,str_aft)\n",
    "\treturn names\n",
    "\n",
    "def findPricesAndScores(filename):\n",
    "    str_bef='    <td class=\"ism-table--el__strong\">'\n",
    "    str_aft='</td>'\n",
    "    pricesAndScores=makeRows(filename,str_bef,str_aft)\n",
    "    for i in range(0,len(pricesAndScores)):\n",
    "        pricesAndScores[i]=removeChars(pricesAndScores[i]) #removes pound signs and other random entries that happened to have same bef and aft strings\n",
    "    pricesAndScores=[x for x in pricesAndScores if x != ''] #remove blank entries (which show up for some reason)\n",
    "    return pricesAndScores\n",
    "\n",
    "def findTeams(filename):\n",
    "    str_bef='                <span class=\"ism-table--el__strong\">'\n",
    "    str_aft='</span>'\n",
    "    teams=makeRows(filename,str_bef,str_aft)\n",
    "    #Manually remove erroneous finds\n",
    "    teams=teams[15:] #remove teams of players in curTeam that also get found in search\n",
    "    badTeamTags=['<%- team_short_name %>,','ng\"><%- team_short_name %>,'] #bad strings that are identified as a team\n",
    "    teams=[team for team in teams if team not in badTeamTags]\n",
    "    return teams\n",
    "\n",
    "# Function: onlyPrices[Scores](pricesAndScores)\n",
    "# Usage: prices[scores]= onlyPrices[Scores](pricesAndScores)\n",
    "# Descriptions: Takes in an array of pricesAndScores (where the prices)\n",
    "# and scores are back to back) and selects out only the price[score].\n",
    "# This is used because the price and score of the players of the same \n",
    "# html tags before and after.\n",
    "#######################################################################\n",
    "def onlyPrices(pricesAndScores):\n",
    "    prices=[]\n",
    "    for i in range(0,len(pricesAndScores)):\n",
    "        if i % 2 == 0:\n",
    "            prices.append(pricesAndScores[i]+',')\n",
    "    return prices\n",
    "\n",
    "def onlyScores(pricesAndScores):\n",
    "    scores=[]\n",
    "    for i in range(0,len(pricesAndScores)):\n",
    "        if i % 2 == 1:\n",
    "            scores.append(pricesAndScores[i]+',')\n",
    "    return scores\n",
    "\n",
    "# Function: makeTable\n",
    "# Usage: table = makeTable(filename,'GK')\n",
    "# Descriptions: Takes in a html file (in txt format) and position and\n",
    "# makes a table with columns 1) Player status, 2) Name, 3) Price, 4) \n",
    "# Total score and 5) Position.\n",
    "#######################################################################\n",
    "def makeTable(filename,position):\n",
    "    table=[]\n",
    "    #Find relevant fields and append them to the table\n",
    "    statuses=findStatuses(filename)\n",
    "    table.append(statuses)\n",
    "    names=findNames(filename)\n",
    "    table.append(names)\n",
    "    pricesAndScores=findPricesAndScores(filename)\n",
    "    prices=onlyPrices(pricesAndScores)\n",
    "    table.append(prices)\n",
    "    scores=onlyScores(pricesAndScores)\n",
    "    table.append(scores)\n",
    "    positions= [position]*len(statuses)\n",
    "    table.append(positions)\n",
    "    teams=findTeams(filename)\n",
    "    table.append(teams)\n",
    "    ###Get rid of extra entries in first column\n",
    "    start0=len(table[0])-len(table[1])\n",
    "    end0=len(table[0])\n",
    "    table[0]=table[0][start0:end0]\n",
    "    return table\n",
    "\n",
    "# Function: rowBind\n",
    "# Usage: full_table = rowBind(table1,table2)\n",
    "# Descriptions: Takes 2 tables and combines them into 1 by row.\n",
    "#######################################################################\n",
    "def rowBind(table1,table2):\n",
    "    if len(table1)==0:\n",
    "        return table2\n",
    "    for i in range(0,len(table1)):\n",
    "            table1[i]=table1[i]+table2[i]\n",
    "    return table1\n",
    "\n",
    "## Main function ##\n",
    "tables={}\n",
    "#Make a table for each position and add it to tables\n",
    "for i in range(0,len(POSITIONS)):\n",
    "    #Initialize variables\n",
    "    position = POSITIONS[i]\n",
    "    noFiles= NOFILES[i]\n",
    "    table=[]\n",
    "    #Make a table for each file and then combine them\n",
    "    for j in range(0,noFiles):\n",
    "        filename = position+str(j+1)+'.txt'\n",
    "        cur_table=makeTable(filename,position)\n",
    "        table=rowBind(table,cur_table)\n",
    "    #Need to make it into a numpy array to be able to manipulate it easily\n",
    "    table=np.array(table)\n",
    "    table=np.transpose(table)\n",
    "    tables[POSITIONS[i]]=table #add to tables"
   ]
  },
  {
   "cell_type": "markdown",
   "metadata": {},
   "source": [
    "Next, we make a table of our current team with the same information"
   ]
  },
  {
   "cell_type": "code",
   "execution_count": 67,
   "metadata": {
    "collapsed": false
   },
   "outputs": [
    {
     "data": {
      "text/plain": [
       "array([ ['View player information,', 'View player information,', 'View player information,', 'View player information,', 'View player information,', 'View player information,', 'View player information,', 'View player information,', 'View player information,', 'View player information,', 'View player information,', 'View player information,', 'View player information,', 'View player information,'],\n",
       "       ['de Gea,', 'Cahill,', 'Koscielny,', 'Azpilicueta,', 'Walker,', 'Lallana,', 'Capoue,', 'SÃ¡nchez,', 'Hazard,', 'Lukaku,', 'Defoe,', 'Pope,', 'Love,', 'de Roon,'],\n",
       "       ['5.4,', '6.4,', '6.3,', '6.6,', '6.1,', '7.6,', '4.8,', '11.9,', '10.4,', '9.5,', '7.7,', '4.0,', '4.0,', '4.4,'],\n",
       "       ['65,', '96,', '77,', '96,', '80,', '104,', '81,', '136,', '118,', '99,', '100,', '0,', '13,', '41,'],\n",
       "       ['GK', 'D', 'D', 'D', 'D', 'MF', 'MF', 'MF', 'MF', 'F', 'F', 'GK', 'D', 'MF', 'F'],\n",
       "       ['MUN,', 'CHE,', 'ARS,', 'CHE,', 'TOT,', 'LIV,', 'WAT,', 'ARS,', 'CHE,', 'EVE,', 'SUN,', 'BUR,', 'SUN,', 'MID,']], dtype=object)"
      ]
     },
     "execution_count": 67,
     "metadata": {},
     "output_type": "execute_result"
    }
   ],
   "source": [
    "# Function: findPlayerStatus\n",
    "# Usage: status = findPlayerStatus(player,tables)\n",
    "# Descriptions: Takes in the player that you're looking for and the\n",
    "# list of tables of all the players and finds the status of that player\n",
    "#######################################################################\n",
    "def findPlayerStatus(player,tables):\n",
    "    for position in POSITIONS:\n",
    "        curTable=tables[position]\n",
    "        for i in range(0,len(curTable[0])):\n",
    "            if (curTable[1][i]==player):\n",
    "                return curTable[0][i]\n",
    "    return 'not found' #If the player is not found\n",
    "\n",
    "# Function: findPlayerPrice\n",
    "# Usage: price = findPlayerPrice(player,tables)\n",
    "# Descriptions: Takes in the player that you're looking for and the\n",
    "# list of tables of all the players and finds the price of that player\n",
    "#######################################################################\n",
    "def findPlayerPrices(player,tables):\n",
    "    for position in POSITIONS:\n",
    "        curTable=tables[position]\n",
    "        for i in range(0,len(curTable[0])):\n",
    "            if (curTable[1][i]==player):\n",
    "                return curTable[2][i]\n",
    "    return 'not found'#If the player is not found\n",
    "\n",
    "# Function: findPlayerScore\n",
    "# Usage: price = findPlayerScore(player,tables)\n",
    "# Descriptions: Takes in the player that you're looking for and the\n",
    "# list of tables of all the players and finds the total score of that \n",
    "# player\n",
    "#######################################################################\n",
    "def findPlayerScores(player,tables):\n",
    "    for position in POSITIONS:\n",
    "        curTable=tables[position]\n",
    "        for i in range(0,len(curTable[0])):\n",
    "            if (curTable[1][i]==player):\n",
    "                return curTable[3][i]\n",
    "    return 'not found'\n",
    "\n",
    "# Function: findPlayerTeam\n",
    "# Usage: price = findPlayerTeam(player,tables)\n",
    "# Descriptions: Takes in the player that you're looking for and the\n",
    "# list of tables of all the players and finds the team of that \n",
    "# player\n",
    "#######################################################################\n",
    "def findPlayerTeams(player,tables):\n",
    "    for position in POSITIONS:\n",
    "        curTable=tables[position]\n",
    "        for i in range(0,len(curTable[0])):\n",
    "            if (curTable[1][i]==player):\n",
    "                return curTable[5][i]\n",
    "    return 'not found'\n",
    "\n",
    "# Function Family: findCur___\n",
    "# Usage: ___ = findCur___(filename)\n",
    "# Descriptions: Given a txt file of a My Team html page, it\n",
    "# will find all the player ___ (e.g. statuses, names) for the week and \n",
    "# make an array of them.\n",
    "#######################################################################\n",
    "def findCurPlayers(filename):\n",
    "    str_bef='                <div class=\"ism-element__name\">'\n",
    "    str_aft='</div>'\n",
    "    curPlayers=makeRows(filename,str_bef,str_aft)\n",
    "    return curPlayers\n",
    "\n",
    "def findCurStatuses(curPlayers,tables):\n",
    "    curStatuses=[]\n",
    "    for player in curPlayers:\n",
    "        curStatuses.append(findPlayerStatus(player,tables))\n",
    "    return curStatuses\n",
    "\n",
    "def findCurPrices(curPlayers,tables):\n",
    "    curPrices=[]\n",
    "    for player in curPlayers:\n",
    "        curPrices.append(findPlayerPrices(player,tables))\n",
    "    return curPrices\n",
    "\n",
    "def findCurScores(curPlayers,tables):\n",
    "    curScores=[]\n",
    "    for player in curPlayers:\n",
    "        curScores.append(findPlayerScores(player,tables))\n",
    "    return curScores\n",
    "\n",
    "def findCurTeams(curPlayers,tables):\n",
    "    curTeams=[]\n",
    "    for player in curPlayers:\n",
    "        curTeams.append(findPlayerTeams(player,tables))\n",
    "    return curTeams\n",
    "\n",
    "## Main Function ##\n",
    "curTeam=[]\n",
    "curPlayers=findCurPlayers('curTeam.txt')\n",
    "curPos=['GK','D','D','D','D','MF','MF','MF','MF','F','F','GK','D','MF','F']\n",
    "curStatuses=findCurStatuses(curPlayers,tables)\n",
    "curPrices=findCurPrices(curPlayers,tables)\n",
    "curScores=findCurScores(curPlayers,tables)\n",
    "curTeams=findCurTeams(curPlayers,tables)\n",
    "curTeam.append(curStatuses)\n",
    "curTeam.append(curPlayers)\n",
    "curTeam.append(curPrices)\n",
    "curTeam.append(curScores)\n",
    "curTeam.append(curPos)\n",
    "curTeam.append(curTeams)\n",
    "#Need to make it into a numpy array to be able to manipulate it easily\n",
    "curTeam=np.array(curTeam)\n",
    "curTeam=np.transpose(curTeam)\n",
    "curTeam"
   ]
  },
  {
   "cell_type": "markdown",
   "metadata": {},
   "source": [
    "Another rule we have to take into account is that we are only allowed to have a maximum of 3 players from one team on our fantasy team. Therefore we need to see if there are any teams which we are not allowed to get new players from when we make our substitutions. For that we need to have a list of all teams for which we have 3 players"
   ]
  },
  {
   "cell_type": "code",
   "execution_count": 68,
   "metadata": {
    "collapsed": false
   },
   "outputs": [
    {
     "data": {
      "text/plain": [
       "['CHE,']"
      ]
     },
     "execution_count": 68,
     "metadata": {},
     "output_type": "execute_result"
    }
   ],
   "source": [
    "maxedOutTeams=[]\n",
    "for team in set(curTeams):\n",
    "    if curTeams.count(team) > 2:\n",
    "        maxedOutTeams.append(team)\n",
    "maxedOutTeams"
   ]
  },
  {
   "cell_type": "markdown",
   "metadata": {},
   "source": [
    "Now that we have all the data in a nice table, we can create teams that cost less than 100 and see which one has the highest total score. However there are a few players we can get rid of before doing that.\n",
    "\n",
    "The idea is that if we can only substitute 1 player, so we should only keep the 1 player per position with the highest total score for each price (you would always rather choose a player with a higher score for the same price, and you can choose a maximum of 1). We're also not considering players that don't have a usual chance of playing (so only players for which it says 'View player information,')."
   ]
  },
  {
   "cell_type": "code",
   "execution_count": 73,
   "metadata": {
    "collapsed": false
   },
   "outputs": [],
   "source": [
    "### Picking top players per price ###\n",
    "\n",
    "#Initialize variables\n",
    "short_tables={} # Final list of teams\n",
    "#For each position, pick the top 5 per price (note that the tables are already ordered by total points, so we can)\n",
    "#just pick the first 5 per price\n",
    "for i in range(0,len(POSITIONS)):\n",
    "    table=tables[POSITIONS[i]]\n",
    "    short_table=[]\n",
    "    prices=set(table[2]) #list of unique prices\n",
    "    for price in prices:\n",
    "        counter=0 #when we've reached the max number of players, we have to leave the loop\n",
    "        for j in range(0,len(table)):\n",
    "            isPlaying = (table[0][j]=='View player information,')\n",
    "            if (table[2][j]==price and isPlaying):\n",
    "                short_table.append([table[0][j],table[1][j],table[2][j],table[3][j],table[5][j]])\n",
    "                break\n",
    "    short_tables[POSITIONS[i]]=np.asmatrix(short_table)"
   ]
  },
  {
   "cell_type": "markdown",
   "metadata": {},
   "source": [
    "Finally, we loop through each possible substitution and find the one that creates the highest total score differential"
   ]
  },
  {
   "cell_type": "code",
   "execution_count": 76,
   "metadata": {
    "collapsed": false
   },
   "outputs": [
    {
     "name": "stdout",
     "output_type": "stream",
     "text": [
      "Substitute in Heaton for de Gea.\n"
     ]
    }
   ],
   "source": [
    "#Declare variables\n",
    "maxDiff=0\n",
    "subOut=''\n",
    "subInt=''\n",
    "#Loop through players and find best transfer\n",
    "for i in range(0,NUM_PLAYERS):\n",
    "    curPlayer=curTeam[1][i]\n",
    "    curPos=curTeam[4][i]\n",
    "    curPrice=float(removeChars(curTeam[2][i]))\n",
    "    curScore=float(removeChars(curTeam[3][i]))\n",
    "    curT=curTeam[5][i]\n",
    "    #Loop through all players that have same position as current player\n",
    "    for row in short_tables[curPos]:\n",
    "        price=float(removeChars(row[0,2]))\n",
    "        team=row[0,4]\n",
    "        #Check if proposed player doesn't violate max 3 players per team rule\n",
    "        if (team not in maxedOutTeams or curT==team):\n",
    "            #Check if transfer is feasible in terms of money and if proposed player is not already in roster\n",
    "            if (curPrice+remainingCash-price>=0 and row[0,1] not in curTeam[1]):\n",
    "                score=float(removeChars(row[0,3]))\n",
    "                #If score differential is more than current maximum, set this transfer as the best one\n",
    "                if (score-curScore > maxDiff):\n",
    "                    subOut=curPlayer\n",
    "                    subIn=row[0,1]\n",
    "                    maxDiff=score-curScore\n",
    "print('Substitute in ' + subIn[:-1] + ' for ' + subOut[:-1]+ '.')"
   ]
  }
 ],
 "metadata": {
  "anaconda-cloud": {},
  "kernelspec": {
   "display_name": "Python [Root]",
   "language": "python",
   "name": "Python [Root]"
  },
  "language_info": {
   "codemirror_mode": {
    "name": "ipython",
    "version": 3
   },
   "file_extension": ".py",
   "mimetype": "text/x-python",
   "name": "python",
   "nbconvert_exporter": "python",
   "pygments_lexer": "ipython3",
   "version": "3.5.2"
  }
 },
 "nbformat": 4,
 "nbformat_minor": 0
}
